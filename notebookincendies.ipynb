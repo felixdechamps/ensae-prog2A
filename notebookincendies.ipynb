{
 "cells": [
  {
   "cell_type": "markdown",
   "metadata": {},
   "source": [
    "Cette base de donnée se définie comme \"une application internet chargée de centraliser l'ensemble des données sur les incendies de forêt sur le territoire français depuis 2006 et de mettre l'ensemble de cette information à disposition du public et des services de l'Etat.\"  \n",
    "  \n",
    "Elle est éditée par l'IGN (Institut National de l'Information Géographique et Forestières)."
   ]
  },
  {
   "cell_type": "code",
   "execution_count": null,
   "metadata": {},
   "outputs": [],
   "source": [
    "import pandas as pd \n",
    "import numpy as np \n",
    "from datetime import datetime"
   ]
  },
  {
   "cell_type": "markdown",
   "metadata": {},
   "source": [
    "Dans cette première partie nous allons voir en détails ce que contiennent les bases de données que nous avons trouver lors de nos recherches."
   ]
  },
  {
   "cell_type": "markdown",
   "metadata": {},
   "source": [
    "## Projet Python pour la data science (2023-2024)\n",
    "*Thomas Chen, Félix de Champs, David Premachandra*  \n"
   ]
  },
  {
   "cell_type": "markdown",
   "metadata": {},
   "source": [
    "## Introduction : \n",
    "<div align=\"justify\">\n",
    "Comme le montre ce graphique du site Statista les surfaces de forêts qui partent chaque année en fumée n'ont cessé d'augmenter au cours de la dernière décenies.  \n",
    "  \n",
    "![graph_statista](/graph_statista.PNG)\n",
    "  \n",
    "Les incendies de forêts sont donc une préoccupation croissante des populations et des pouvoirs publiques. En effet, ces millieu d'hectares brûlés représentent non seulement une catastrophe écologique, quand on connaît l'importance des forêts pour la biodiversité ou pour la captation du $ CO_{2}$, mais aussi dans certains cas une catastrophe humaine et matériel puisque 80 % des incendies de forêts se déclenchent à moins de 50 m des habitations selon le Ministère de l'Ecologie.  \n",
    "On comprend alors l'importance de comprendre les circonstances de ces incendies pour mieux les prévenir, comme par exemple essayer de déterminer précisément quelles conditions climatiques vont sont les plus propices à l'apparition d'un feu de forêts.  \n",
    "Notre projet à donc pour objectif de donner la probabilité qu'un feu de forêt se déclenche dans le Sud-Est de la France, en fonction des conditions météo comme nous allons le voir par la suite.\n"
   ]
  },
  {
   "cell_type": "markdown",
   "metadata": {},
   "source": [
    "## Présentation des bases de données principales\n"
   ]
  },
  {
   "cell_type": "markdown",
   "metadata": {},
   "source": [
    "# 0/ Récupération des données "
   ]
  },
  {
   "cell_type": "markdown",
   "metadata": {},
   "source": [
    "- On commence par importer les modules pour le traitement des données : pandas pour manipuler les dataframes, numpy pour faire des opérations mathématiques et datetime pour la manipulation des dates."
   ]
  },
  {
   "cell_type": "markdown",
   "metadata": {},
   "source": [
    "- Ensuite on va charger les différentes bases de données sur python en les faisant passer du format csv au format dataframe de pandas:  \n",
    "  \n",
    "  - la base de données sur les incendies de forêt est disponible via ce [lien](https://bdiff.agriculture.gouv.fr/incendies).  \n",
    "  - la base de données météo est disponible via ce [lien](https://meteonet.umr-cnrm.fr/dataset/data/SE/ground_stations/).\n",
    "  - la base de données sur les communes est disponible via ce [lien](https://www.data.gouv.fr/fr/datasets/r/dbe8a621-a9c4-4bc3-9cae-be1699c5ff25).\n"
   ]
  },
  {
   "cell_type": "code",
   "execution_count": null,
   "metadata": {},
   "outputs": [],
   "source": [
    "# Dataframe de la base de données sur les incendies: \n",
    "df_incendies = pd.read_csv(r\"C:\\Users\\felix\\Desktop\\ensae-prog2A\\data\\Incendies.csv\", sep = ';')\n",
    "\n",
    "# Dataframe avec la base de données meteonet pour le quart sud-est :\n",
    "df_meteo_SE = pd.read_csv(r'C:\\Users\\felix\\Desktop\\ensae-prog2A\\data\\meteonet\\ground_stations\\SE2018.csv')\n",
    "\n",
    "# Dataframe avec juste les stations et leurs coordonnées GPS :\n",
    "df_stations_SE = df_meteo_SE[['number_sta','lat','lon']]\n",
    "df_stations_SE = df_stations_SE.drop_duplicates(subset='number_sta').reset_index()\n",
    "\n",
    "# Dataframe avec la base de données permettant de faire la correspondance commune-coordonnées GPS :\n",
    "df_communes = pd.read_csv(r\"C:\\Users\\felix\\Desktop\\ensae-prog2A\\data\\communes.csv\")\n",
    "df_communes = df_communes[['code_commune_INSEE','latitude','longitude','nom_region']]\n",
    "df_communes.columns = ['code_commune_INSEE', 'lat', 'lon', 'region']\n",
    "# On se restrenint aux régions qui nous intéressent\n",
    "liste_regions = ['Corse', \"Provence-Alpes-Côte d'Azur\", \"Occitanie\", \"Auvergne-Rhône-Alpes\", 'Nouvelle-Aquitaine']\n",
    "df_communes = df_communes[df_communes['region'].isin(liste_regions)].drop_duplicates(subset = 'code_commune_INSEE').reset_index()\n",
    "# Correction des codes communes INSEE des départements en 0X \n",
    "for i in df_communes.index :\n",
    "    if len(df_communes['code_commune_INSEE'][i])==4 :\n",
    "        df_communes['code_commune_INSEE'][i] = '0'+ df_communes['code_commune_INSEE'][i]\n"
   ]
  },
  {
   "cell_type": "markdown",
   "metadata": {},
   "source": [
    "# 1/ Base de données BDIFF"
   ]
  },
  {
   "cell_type": "markdown",
   "metadata": {},
   "source": [
    "les données sur les incendies en 2018 sont contenues dans le dataframe df_incendies qui possède 1928 lignes et 37 colonnes. Chaque ligne correspond à un incendie."
   ]
  },
  {
   "cell_type": "code",
   "execution_count": null,
   "metadata": {},
   "outputs": [],
   "source": [
    "print(df_incendies.shape)\n",
    "print(df_incendies.columns)"
   ]
  },
  {
   "cell_type": "markdown",
   "metadata": {},
   "source": [
    "### Regardons quelques statistiques descriptives sur les variables qualitatives relatives aux incendies:"
   ]
  },
  {
   "cell_type": "markdown",
   "metadata": {},
   "source": [
    "#### On "
   ]
  },
  {
   "cell_type": "code",
   "execution_count": null,
   "metadata": {},
   "outputs": [],
   "source": [
    "df_incendies['date'] = pd.to_datetime(df_incendies['Date de première alerte'])\n",
    "from datetime import datetime\n",
    "\n",
    "df_hist_incendies = df_incendies.copy()\n",
    "\n",
    "df_hist_incendies['date']=pd.to_datetime(df_hist_incendies['date'])\n",
    "df_hist_incendies['mois']=df_hist_incendies['date'].dt.month\n",
    "mois_noms = { 1: 'janvier', 2: 'février', 3: 'mars', 4: 'avril', 5: 'mai', 6: 'juin', \n",
    "             7: 'juillet', 8: 'août', 9: 'septembre', 10: 'octobre', 11: 'novembre', 12: 'décembre'}\n",
    "\n",
    "df_hist_incendies['mois'] = df_hist_incendies['mois'].replace(mois_noms) #remplacer les valeurs numériques des mois par leurs noms\n",
    "\n",
    "df_hist_incendies['heure']=pd.to_datetime(df_hist_incendies['Date de première alerte']).dt.hour\n"
   ]
  },
  {
   "cell_type": "code",
   "execution_count": null,
   "metadata": {},
   "outputs": [],
   "source": [
    "\"histogramme du nombre d'incendies par mois\"\n",
    "plt.figure(figsize=(15, 6))\n",
    "df_hist_incendies['mois'].value_counts().plot(kind='bar', color='orange')\n",
    "plt.title('Nombre d\\'incendies par mois en 2018 dans le Sud-Est')\n",
    "plt.xlabel('Mois')\n",
    "plt.ylabel('Nombre d\\'incendies')\n",
    "plt.xticks(rotation=0)\n",
    "\n",
    "\"histogramme du nombre d'incendies par heure\"\n",
    "plt.figure(figsize=(15, 6))\n",
    "df_hist_incendies['heure'].value_counts().sort_index().plot(kind='bar', color='orange')\n",
    "plt.title('Nombre d\\'incendies par heure en 2018 dans le Sud-Est')\n",
    "plt.xlabel('heure')\n",
    "plt.ylabel('Nombre d\\'incendies')\n",
    "plt.xticks(rotation=0)\n",
    "\n",
    "plt.show()"
   ]
  },
  {
   "cell_type": "markdown",
   "metadata": {},
   "source": [
    "<div align=\"justify\">\n",
    "En regardant l'occurence des incendies en 2018, on constate que les mois d'été connaissent bien plus d'incendies que les mois d'hiver et d'automne. Quant à l'heure, on remarque qu'un grand nombre d'incendies ont lieu dans l'après-midi. On peut supposer que cela est dû au climat d'été qui est d'avantage propice au déclenchement d'un feu de forêt. La variable heure qui correspond à l'heure du signalement de l'incendie doit vraisemblablement être proche de l'heure d'apparition du feu, on peut dire que les conditions climatiques dans l'après-midi sont plus favorables aux incendies que celles du matin ou de la nuit. De plus la concentration des heures d'incendies dans l'après-midi peut être liée à la fréquentation qui semble jouer un rôle assez important puisque la plupart des incendies ont une cause non naturelle. "
   ]
  },
  {
   "cell_type": "markdown",
   "metadata": {},
   "source": [
    "# 2/ Base de données Meteonet"
   ]
  },
  {
   "cell_type": "markdown",
   "metadata": {},
   "source": [
    "## Création de la base de données finale\n",
    "Les données sont toutes rassemblées dans un dossier nommé \"data\"."
   ]
  },
  {
   "cell_type": "markdown",
   "metadata": {},
   "source": [
    "- Les données du dataset de Météo France sont données toutes les 6 minutes pour chaque station sur l'ensemble de l'année. Nous avons donc décidé de les moyenner sur la journée afin réduire le nombre d'observations à une par jour et par station. Cela se justifie dans la mesure où les tendances intrajournalières des paramètres météorologiques n'ont pas beaucoup d'importance dans le cadre de notre modélisation.  \n",
    "C'est donc le sens de ce dataframe `df_meteo_moy`."
   ]
  },
  {
   "cell_type": "code",
   "execution_count": null,
   "metadata": {},
   "outputs": [],
   "source": [
    "df_meteo_SE['date'] = pd.to_datetime(df_meteo_SE['date'])\n",
    "df_meteo_moy = df_meteo_SE.groupby(['number_sta', pd.Grouper(key = 'date', freq = 'D')]).mean().reset_index()\n",
    "display(df_meteo_moy.head())"
   ]
  },
  {
   "cell_type": "markdown",
   "metadata": {},
   "source": [
    "- On va ensuite vouloir associer à chaque commune la station météorologique la plus proche pour pouvoir avoir accès à la météo journalière de la commune en question. Pour cela on a besoin de calculer la distance entre la position GPS de la commune et celle de la station météo, on utilise donc cette fonction : "
   ]
  },
  {
   "cell_type": "code",
   "execution_count": null,
   "metadata": {},
   "outputs": [],
   "source": [
    "def distance(lat1,lon1,lat2,lon2):\n",
    "    \"\"\" \n",
    "    INPUT : les coordonnées GPS de deux points\n",
    "    \n",
    "    OUTPUT : la distance entre ces deux points à vol d'oiseau\n",
    "    \"\"\"\n",
    "    return 6371*np.arccos(np.sin(lat1*np.pi/180)*np.sin(lat2*np.pi/180)+np.cos(lat1*np.pi/180)*np.cos(lat2*np.pi/180)*np.cos((lon2-lon1)*np.pi/180))\n"
   ]
  },
  {
   "cell_type": "markdown",
   "metadata": {},
   "source": [
    "- La cellule suivante permet de d'obtenir pour chaque commune la station météo la plus proche en distance. Pour chaque commune on calcule la distance à chaque station et puis on séléctionne celle qui a la distance la plus faible."
   ]
  },
  {
   "cell_type": "code",
   "execution_count": 5,
   "metadata": {},
   "outputs": [],
   "source": [
    "plus_proche_station = np.zeros(len(df_communes))\n",
    "for i in df_communes.index : \n",
    "    lat1 = df_communes.lat[i]\n",
    "    lon1 = df_communes.lon[i]\n",
    "    d_min = 100\n",
    "    index_min = 0\n",
    "    for j in df_stations_SE.index : \n",
    "        lat2 = df_stations_SE.lat[j]\n",
    "        lon2 = df_stations_SE.lon[j]\n",
    "        d = distance(lat1,lon1,lat2,lon2) \n",
    "        if d <= d_min :\n",
    "            d_min = d\n",
    "            index_min = j\n",
    "\n",
    "    plus_proche_station[i] = df_stations_SE.number_sta[index_min]\n",
    "\n"
   ]
  },
  {
   "cell_type": "markdown",
   "metadata": {},
   "source": [
    "- On va ensuite commencer la création du dataframe final ` df_final` en associant à chaque commune sa météo jounalière :"
   ]
  },
  {
   "cell_type": "code",
   "execution_count": 6,
   "metadata": {},
   "outputs": [
    {
     "data": {
      "text/html": [
       "<div>\n",
       "<style scoped>\n",
       "    .dataframe tbody tr th:only-of-type {\n",
       "        vertical-align: middle;\n",
       "    }\n",
       "\n",
       "    .dataframe tbody tr th {\n",
       "        vertical-align: top;\n",
       "    }\n",
       "\n",
       "    .dataframe thead th {\n",
       "        text-align: right;\n",
       "    }\n",
       "</style>\n",
       "<table border=\"1\" class=\"dataframe\">\n",
       "  <thead>\n",
       "    <tr style=\"text-align: right;\">\n",
       "      <th></th>\n",
       "      <th>index</th>\n",
       "      <th>code_commune_INSEE</th>\n",
       "      <th>lat</th>\n",
       "      <th>lon</th>\n",
       "      <th>region</th>\n",
       "      <th>number_sta</th>\n",
       "      <th>date</th>\n",
       "      <th>lat_sta</th>\n",
       "      <th>lon_sta</th>\n",
       "      <th>height_sta</th>\n",
       "      <th>dd</th>\n",
       "      <th>ff</th>\n",
       "      <th>precip</th>\n",
       "      <th>hu</th>\n",
       "      <th>td</th>\n",
       "      <th>t</th>\n",
       "      <th>psl</th>\n",
       "    </tr>\n",
       "  </thead>\n",
       "  <tbody>\n",
       "    <tr>\n",
       "      <th>0</th>\n",
       "      <td>0</td>\n",
       "      <td>01001</td>\n",
       "      <td>46.153426</td>\n",
       "      <td>4.926114</td>\n",
       "      <td>Auvergne-Rhône-Alpes</td>\n",
       "      <td>1235001</td>\n",
       "      <td>2018-12-05</td>\n",
       "      <td>46.038</td>\n",
       "      <td>5.044</td>\n",
       "      <td>280.0</td>\n",
       "      <td>NaN</td>\n",
       "      <td>NaN</td>\n",
       "      <td>0.000000</td>\n",
       "      <td>NaN</td>\n",
       "      <td>NaN</td>\n",
       "      <td>281.837879</td>\n",
       "      <td>NaN</td>\n",
       "    </tr>\n",
       "    <tr>\n",
       "      <th>1</th>\n",
       "      <td>0</td>\n",
       "      <td>01001</td>\n",
       "      <td>46.153426</td>\n",
       "      <td>4.926114</td>\n",
       "      <td>Auvergne-Rhône-Alpes</td>\n",
       "      <td>1235001</td>\n",
       "      <td>2018-12-14</td>\n",
       "      <td>46.038</td>\n",
       "      <td>5.044</td>\n",
       "      <td>280.0</td>\n",
       "      <td>NaN</td>\n",
       "      <td>NaN</td>\n",
       "      <td>0.000000</td>\n",
       "      <td>NaN</td>\n",
       "      <td>NaN</td>\n",
       "      <td>272.222642</td>\n",
       "      <td>NaN</td>\n",
       "    </tr>\n",
       "    <tr>\n",
       "      <th>2</th>\n",
       "      <td>0</td>\n",
       "      <td>01001</td>\n",
       "      <td>46.153426</td>\n",
       "      <td>4.926114</td>\n",
       "      <td>Auvergne-Rhône-Alpes</td>\n",
       "      <td>1235001</td>\n",
       "      <td>2018-12-15</td>\n",
       "      <td>46.038</td>\n",
       "      <td>5.044</td>\n",
       "      <td>280.0</td>\n",
       "      <td>NaN</td>\n",
       "      <td>NaN</td>\n",
       "      <td>0.006667</td>\n",
       "      <td>NaN</td>\n",
       "      <td>NaN</td>\n",
       "      <td>273.077083</td>\n",
       "      <td>NaN</td>\n",
       "    </tr>\n",
       "    <tr>\n",
       "      <th>3</th>\n",
       "      <td>0</td>\n",
       "      <td>01001</td>\n",
       "      <td>46.153426</td>\n",
       "      <td>4.926114</td>\n",
       "      <td>Auvergne-Rhône-Alpes</td>\n",
       "      <td>1235001</td>\n",
       "      <td>2018-12-16</td>\n",
       "      <td>46.038</td>\n",
       "      <td>5.044</td>\n",
       "      <td>280.0</td>\n",
       "      <td>NaN</td>\n",
       "      <td>NaN</td>\n",
       "      <td>0.008333</td>\n",
       "      <td>NaN</td>\n",
       "      <td>NaN</td>\n",
       "      <td>277.585000</td>\n",
       "      <td>NaN</td>\n",
       "    </tr>\n",
       "    <tr>\n",
       "      <th>4</th>\n",
       "      <td>0</td>\n",
       "      <td>01001</td>\n",
       "      <td>46.153426</td>\n",
       "      <td>4.926114</td>\n",
       "      <td>Auvergne-Rhône-Alpes</td>\n",
       "      <td>1235001</td>\n",
       "      <td>2018-12-17</td>\n",
       "      <td>46.038</td>\n",
       "      <td>5.044</td>\n",
       "      <td>280.0</td>\n",
       "      <td>NaN</td>\n",
       "      <td>NaN</td>\n",
       "      <td>0.011667</td>\n",
       "      <td>NaN</td>\n",
       "      <td>NaN</td>\n",
       "      <td>277.890417</td>\n",
       "      <td>NaN</td>\n",
       "    </tr>\n",
       "    <tr>\n",
       "      <th>5</th>\n",
       "      <td>0</td>\n",
       "      <td>01001</td>\n",
       "      <td>46.153426</td>\n",
       "      <td>4.926114</td>\n",
       "      <td>Auvergne-Rhône-Alpes</td>\n",
       "      <td>1235001</td>\n",
       "      <td>2018-12-18</td>\n",
       "      <td>46.038</td>\n",
       "      <td>5.044</td>\n",
       "      <td>280.0</td>\n",
       "      <td>NaN</td>\n",
       "      <td>NaN</td>\n",
       "      <td>0.000833</td>\n",
       "      <td>NaN</td>\n",
       "      <td>NaN</td>\n",
       "      <td>278.067917</td>\n",
       "      <td>NaN</td>\n",
       "    </tr>\n",
       "    <tr>\n",
       "      <th>6</th>\n",
       "      <td>0</td>\n",
       "      <td>01001</td>\n",
       "      <td>46.153426</td>\n",
       "      <td>4.926114</td>\n",
       "      <td>Auvergne-Rhône-Alpes</td>\n",
       "      <td>1235001</td>\n",
       "      <td>2018-12-19</td>\n",
       "      <td>46.038</td>\n",
       "      <td>5.044</td>\n",
       "      <td>280.0</td>\n",
       "      <td>NaN</td>\n",
       "      <td>NaN</td>\n",
       "      <td>0.052500</td>\n",
       "      <td>NaN</td>\n",
       "      <td>NaN</td>\n",
       "      <td>280.643333</td>\n",
       "      <td>NaN</td>\n",
       "    </tr>\n",
       "    <tr>\n",
       "      <th>7</th>\n",
       "      <td>0</td>\n",
       "      <td>01001</td>\n",
       "      <td>46.153426</td>\n",
       "      <td>4.926114</td>\n",
       "      <td>Auvergne-Rhône-Alpes</td>\n",
       "      <td>1235001</td>\n",
       "      <td>2018-12-20</td>\n",
       "      <td>46.038</td>\n",
       "      <td>5.044</td>\n",
       "      <td>280.0</td>\n",
       "      <td>NaN</td>\n",
       "      <td>NaN</td>\n",
       "      <td>0.000000</td>\n",
       "      <td>NaN</td>\n",
       "      <td>NaN</td>\n",
       "      <td>279.035000</td>\n",
       "      <td>NaN</td>\n",
       "    </tr>\n",
       "    <tr>\n",
       "      <th>8</th>\n",
       "      <td>0</td>\n",
       "      <td>01001</td>\n",
       "      <td>46.153426</td>\n",
       "      <td>4.926114</td>\n",
       "      <td>Auvergne-Rhône-Alpes</td>\n",
       "      <td>1235001</td>\n",
       "      <td>2018-12-21</td>\n",
       "      <td>46.038</td>\n",
       "      <td>5.044</td>\n",
       "      <td>280.0</td>\n",
       "      <td>NaN</td>\n",
       "      <td>NaN</td>\n",
       "      <td>0.025833</td>\n",
       "      <td>NaN</td>\n",
       "      <td>NaN</td>\n",
       "      <td>281.076667</td>\n",
       "      <td>NaN</td>\n",
       "    </tr>\n",
       "    <tr>\n",
       "      <th>9</th>\n",
       "      <td>0</td>\n",
       "      <td>01001</td>\n",
       "      <td>46.153426</td>\n",
       "      <td>4.926114</td>\n",
       "      <td>Auvergne-Rhône-Alpes</td>\n",
       "      <td>1235001</td>\n",
       "      <td>2018-12-22</td>\n",
       "      <td>46.038</td>\n",
       "      <td>5.044</td>\n",
       "      <td>280.0</td>\n",
       "      <td>NaN</td>\n",
       "      <td>NaN</td>\n",
       "      <td>0.000000</td>\n",
       "      <td>NaN</td>\n",
       "      <td>NaN</td>\n",
       "      <td>283.481667</td>\n",
       "      <td>NaN</td>\n",
       "    </tr>\n",
       "  </tbody>\n",
       "</table>\n",
       "</div>"
      ],
      "text/plain": [
       "   index code_commune_INSEE        lat       lon                region  \\\n",
       "0      0              01001  46.153426  4.926114  Auvergne-Rhône-Alpes   \n",
       "1      0              01001  46.153426  4.926114  Auvergne-Rhône-Alpes   \n",
       "2      0              01001  46.153426  4.926114  Auvergne-Rhône-Alpes   \n",
       "3      0              01001  46.153426  4.926114  Auvergne-Rhône-Alpes   \n",
       "4      0              01001  46.153426  4.926114  Auvergne-Rhône-Alpes   \n",
       "5      0              01001  46.153426  4.926114  Auvergne-Rhône-Alpes   \n",
       "6      0              01001  46.153426  4.926114  Auvergne-Rhône-Alpes   \n",
       "7      0              01001  46.153426  4.926114  Auvergne-Rhône-Alpes   \n",
       "8      0              01001  46.153426  4.926114  Auvergne-Rhône-Alpes   \n",
       "9      0              01001  46.153426  4.926114  Auvergne-Rhône-Alpes   \n",
       "\n",
       "   number_sta       date  lat_sta  lon_sta  height_sta  dd  ff    precip  hu  \\\n",
       "0     1235001 2018-12-05   46.038    5.044       280.0 NaN NaN  0.000000 NaN   \n",
       "1     1235001 2018-12-14   46.038    5.044       280.0 NaN NaN  0.000000 NaN   \n",
       "2     1235001 2018-12-15   46.038    5.044       280.0 NaN NaN  0.006667 NaN   \n",
       "3     1235001 2018-12-16   46.038    5.044       280.0 NaN NaN  0.008333 NaN   \n",
       "4     1235001 2018-12-17   46.038    5.044       280.0 NaN NaN  0.011667 NaN   \n",
       "5     1235001 2018-12-18   46.038    5.044       280.0 NaN NaN  0.000833 NaN   \n",
       "6     1235001 2018-12-19   46.038    5.044       280.0 NaN NaN  0.052500 NaN   \n",
       "7     1235001 2018-12-20   46.038    5.044       280.0 NaN NaN  0.000000 NaN   \n",
       "8     1235001 2018-12-21   46.038    5.044       280.0 NaN NaN  0.025833 NaN   \n",
       "9     1235001 2018-12-22   46.038    5.044       280.0 NaN NaN  0.000000 NaN   \n",
       "\n",
       "   td           t  psl  \n",
       "0 NaN  281.837879  NaN  \n",
       "1 NaN  272.222642  NaN  \n",
       "2 NaN  273.077083  NaN  \n",
       "3 NaN  277.585000  NaN  \n",
       "4 NaN  277.890417  NaN  \n",
       "5 NaN  278.067917  NaN  \n",
       "6 NaN  280.643333  NaN  \n",
       "7 NaN  279.035000  NaN  \n",
       "8 NaN  281.076667  NaN  \n",
       "9 NaN  283.481667  NaN  "
      ]
     },
     "metadata": {},
     "output_type": "display_data"
    }
   ],
   "source": [
    "df_final = df_communes\n",
    "\n",
    "df_final['number_sta'] = pd.DataFrame(plus_proche_station.astype(int))\n",
    "\n",
    "df_meteo_moy = df_meteo_moy.rename(columns={'lat' : 'lat_sta', 'lon' : 'lon_sta'})\n",
    "\n",
    "df_final = df_final.merge(df_meteo_moy, on = 'number_sta', how = 'left')\n",
    "\n",
    "df_final['date'] = pd.to_datetime(df_final['date'])\n",
    "\n",
    "display(df_final.head(10))\n"
   ]
  },
  {
   "cell_type": "markdown",
   "metadata": {},
   "source": [
    "Pour finaliser notre base de donnée en vue de lui appliquer des algorithmes de régression, il nous faut maintenant ajouter une colonne \"incendie\" qui prend la valeur 1 s'il y a eu un incendie déclaré ce jour dans la commune et 0 sinon : "
   ]
  },
  {
   "cell_type": "code",
   "execution_count": null,
   "metadata": {},
   "outputs": [],
   "source": [
    "# Ajustements sur le dataframe incendie en vue de la jointure avec la base finale\n",
    "df_incendies['Date de première alerte'] = pd.to_datetime(df_incendies['Date de première alerte'])\n",
    "df_incendies['date'] = df_incendies['Date de première alerte'].dt.date\n",
    "df_incendies = df_incendies.rename(columns={'Code INSEE' : 'code_commune_INSEE'})\n",
    "df_incendies_18 = df_incendies[df_incendies['Année'] == 2018]"
   ]
  },
  {
   "cell_type": "code",
   "execution_count": null,
   "metadata": {},
   "outputs": [],
   "source": [
    "df_final['date'] = df_final['date'].dt.date\n",
    "\n",
    "df_final = pd.merge(df_final, df_incendies_18, how='left', on=['date', 'code_commune_INSEE'])\n",
    "\n",
    "colonnes_a_verifier = [\"Origine de l'alerte\",\n",
    "       'Moyens de première intervention', 'Surface parcourue (m2)',\n",
    "       'Surface forêt (m2)', 'Surface maquis garrigues (m2)',\n",
    "       'Autres surfaces naturelles hors forêt (m2)', 'Surfaces agricoles (m2)',\n",
    "       'Autres surfaces (m2)', 'Surface autres terres boisées (m2)',\n",
    "       'Surfaces non boisées naturelles (m2)',\n",
    "       'Surfaces non boisées artificialisées (m2)',\n",
    "       'Surfaces non boisées (m2)', 'Précision des surfaces',\n",
    "       \"Surface de feu à l'arrivée des secours > 0,1 ha\",\n",
    "       'Voie carrossable la plus proche',\n",
    "       'Activité ou habitation la plus proche', 'Type de peuplement',\n",
    "       'Connaissance', \"Source de l'enquête\", 'Nature',\n",
    "       \"Intervention de l'équipe RCCI\", 'Décès ou bâtiments touchés',\n",
    "       'Nombre de décès', 'Nombre de bâtiments totalement détruits',\n",
    "       'Nombre de bâtiments partiellement détruits', 'Hygrométrie (%)',\n",
    "       'Vitesse moyenne du vent (Km/h)', 'Direction du vent',\n",
    "       'Température (°C)', 'Précision de la donnée',\n",
    "       \"Présence d'un contour valide\"]  \n",
    "       \n",
    "# Si sur une même ligne toutes les valeurs colonnes relatives à l'incendie sont \"nan\" c'est qu'il n'y a eu d'incendie\n",
    "\n",
    "df_final['incendie'] = 1-df_final[colonnes_a_verifier].isna().all(axis=1).astype(int)\n",
    "\n",
    "display(df_final.sample(10))"
   ]
  },
  {
   "cell_type": "markdown",
   "metadata": {},
   "source": [
    "-On va effectuer quelques vérifications pour voir si l'on a pas loupé des incendies par exemple :"
   ]
  },
  {
   "cell_type": "code",
   "execution_count": null,
   "metadata": {},
   "outputs": [],
   "source": [
    "diff = list(set(df_incendies_18['code_commune_INSEE'])-set(df_final[df_final['incendie']== 1]['code_commune_INSEE']))\n",
    "print(\"codes commune INSEE de communes ayant eu des incendies n'apparaissant pas dans la table finale :\\n\",diff)\n",
    "print(f\"Ils sont au nombre de {len(diff)}.\")"
   ]
  },
  {
   "cell_type": "markdown",
   "metadata": {},
   "source": [
    "Comme on peut le constater avec les deux premiers chiffres de ces codes communes INSEE qui correspondent au département, les départements où se situent ces communes  \n",
    "ne sont pas des départements du Sud-Est et donc leurs feux de forêts n'entre pas dans le cadre de notre étude.  \n",
    "Pour les  quelques exeptions qui restent, nous avons conclu après vérification dans la base de données de la météo qu'il s'agit en fait de ville où les données météo ne sont pas disponibles le jour de l'incendie. "
   ]
  }
 ],
 "metadata": {
  "kernelspec": {
   "display_name": "base",
   "language": "python",
   "name": "python3"
  },
  "language_info": {
   "codemirror_mode": {
    "name": "ipython",
    "version": 3
   },
   "file_extension": ".py",
   "mimetype": "text/x-python",
   "name": "python",
   "nbconvert_exporter": "python",
   "pygments_lexer": "ipython3",
   "version": "3.9.12"
  }
 },
 "nbformat": 4,
 "nbformat_minor": 2
}
