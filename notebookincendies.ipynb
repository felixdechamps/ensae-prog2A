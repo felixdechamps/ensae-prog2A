{
 "cells": [
  {
   "cell_type": "code",
   "execution_count": 2,
   "metadata": {},
   "outputs": [],
   "source": [
    "import pandas as pd \n",
    "import numpy as np\n",
    "df_incendies= pd.read_csv(\"/Users/thomas/Desktop/projetpython/Incendies.csv\", sep=';')\n",
    "\n",
    "df_communes=pd.read_csv(\"/Users/thomas/Desktop/projetpython/communes-departement-region.csv\")\n",
    "df_communes=df_communes[['code_commune_INSEE','latitude','longitude']]\n",
    "df_communes.columns= ['code INSEE', 'lat', 'lon']\n",
    "\n",
    "df_météo_NW=pd.read_csv('/Users/thomas/Desktop/projetpython/NW2018.csv')\n",
    "#df_météo_SE=pd.read_csv('/Users/thomas/Desktop/projetpython/SE2018.csv')\n",
    "#df_météo=pd.concat(df_météo_NW,df_météo_SE, ignore_index=True)\n",
    "\n",
    "df_stations_NW=df_météo_NW[['number_sta','lat','lon']]\n"
   ]
  },
  {
   "cell_type": "code",
   "execution_count": 3,
   "metadata": {},
   "outputs": [
    {
     "name": "stdout",
     "output_type": "stream",
     "text": [
      "   number_sta     lat    lon commune  distance\n",
      "0    14066001  49.330 -0.430                 0\n",
      "1    14126001  49.150  0.040                 0\n",
      "2    14137001  49.180 -0.460                 0\n",
      "3    14216001  48.928 -0.149                 0\n",
      "4    14296001  48.790 -1.040                 0\n"
     ]
    }
   ],
   "source": [
    "df_stations_NW=df_stations_NW.drop_duplicates()\n",
    "\n",
    "\n",
    "def distance(lat1,lon1,lat2,lon2):\n",
    "    return np.sqrt((lat1-lat2)**2+(lon1-lon2)**2)\n",
    "\n",
    "df_stations_NW['commune']=\"\"\n",
    "df_stations_NW['distance station-commune']=0\n",
    "print(df_stations_NW.head())"
   ]
  },
  {
   "cell_type": "code",
   "execution_count": 11,
   "metadata": {},
   "outputs": [
    {
     "name": "stderr",
     "output_type": "stream",
     "text": [
      "/var/folders/vt/6c09fl4n7h7dmmfb0j2ctpf40000gn/T/ipykernel_80817/16855600.py:13: SettingWithCopyWarning: \n",
      "A value is trying to be set on a copy of a slice from a DataFrame\n",
      "\n",
      "See the caveats in the documentation: https://pandas.pydata.org/pandas-docs/stable/user_guide/indexing.html#returning-a-view-versus-a-copy\n",
      "  df_stations_NW['commune'][i]=plusprochecommune\n",
      "/var/folders/vt/6c09fl4n7h7dmmfb0j2ctpf40000gn/T/ipykernel_80817/16855600.py:14: SettingWithCopyWarning: \n",
      "A value is trying to be set on a copy of a slice from a DataFrame\n",
      "\n",
      "See the caveats in the documentation: https://pandas.pydata.org/pandas-docs/stable/user_guide/indexing.html#returning-a-view-versus-a-copy\n",
      "  df_stations_NW['distance station-commune'][i]=s\n"
     ]
    }
   ],
   "source": [
    "#associer à chaque station la commune la plus proche\n",
    "for i in df_stations_NW.index:\n",
    "    lat1=df_stations_NW['lat'][i]\n",
    "    lon1=df_stations_NW['lon'][i]\n",
    "    s=1 #initialise une distance arbitraire \n",
    "    plusprochecommune=0\n",
    "    for j in df_communes.index:\n",
    "        lat2=df_communes['lat'][j]\n",
    "        lon2=df_communes['lon'][j]\n",
    "        d=distance(lat1,lon1,lat2,lon2)\n",
    "        if d<=s:\n",
    "            s=d\n",
    "            plusprochecommune=int(df_communes['code INSEE'][j])\n",
    "    df_stations_NW['commune'][i]=plusprochecommune\n",
    "    df_stations_NW['distance station-commune'][i]=s\n",
    "\n",
    "      "
   ]
  },
  {
   "cell_type": "code",
   "execution_count": 14,
   "metadata": {},
   "outputs": [
    {
     "name": "stdout",
     "output_type": "stream",
     "text": [
      "   number_sta     lat    lon commune  distance station-commune\n",
      "0    14066001  49.330 -0.430   14066                  0.016159\n",
      "1    14126001  49.150  0.040   14126                  0.014314\n",
      "2    14137001  49.180 -0.460   14137                  0.011070\n",
      "3    14216001  48.928 -0.149   14240                  0.020358\n",
      "4    14296001  48.790 -1.040   14296                  0.020768\n"
     ]
    }
   ],
   "source": [
    "print(df_stations_NW.head())"
   ]
  },
  {
   "cell_type": "code",
   "execution_count": null,
   "metadata": {},
   "outputs": [],
   "source": []
  }
 ],
 "metadata": {
  "kernelspec": {
   "display_name": "base",
   "language": "python",
   "name": "python3"
  },
  "language_info": {
   "codemirror_mode": {
    "name": "ipython",
    "version": 3
   },
   "file_extension": ".py",
   "mimetype": "text/x-python",
   "name": "python",
   "nbconvert_exporter": "python",
   "pygments_lexer": "ipython3",
   "version": "3.9.12"
  }
 },
 "nbformat": 4,
 "nbformat_minor": 2
}
