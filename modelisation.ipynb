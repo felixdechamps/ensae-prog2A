{
 "cells": [
  {
   "cell_type": "markdown",
   "metadata": {},
   "source": [
    "* Modélisation"
   ]
  },
  {
   "cell_type": "markdown",
   "metadata": {
    "colab": {},
    "colab_type": "code",
    "id": "dpp7upmRydZQ"
   },
   "source": [
    "import numpy as np\n",
    "import pandas as pd\n",
    "import matplotlib.pyplot as plt\n",
    "import seaborn as sns"
   ]
  },
  {
   "cell_type": "code",
   "execution_count": 24,
   "metadata": {
    "colab": {},
    "colab_type": "code",
    "id": "DVKmbS0QydZV"
   },
   "outputs": [
    {
     "name": "stderr",
     "output_type": "stream",
     "text": [
      "/tmp/ipykernel_3303/1621852662.py:1: DtypeWarning: Columns (1,19,20,21,22,34,39,40,41,42,43,49,51,52) have mixed types. Specify dtype option on import or set low_memory=False.\n",
      "  data = pd.read_csv(\"df_final.csv\")\n"
     ]
    },
    {
     "data": {
      "text/plain": [
       "(5017137, 54)"
      ]
     },
     "execution_count": 24,
     "metadata": {},
     "output_type": "execute_result"
    }
   ],
   "source": [
    "data = pd.read_csv(\"df_final.csv\")\n",
    "data.shape"
   ]
  },
  {
   "cell_type": "code",
   "execution_count": 6,
   "metadata": {
    "colab": {},
    "colab_type": "code",
    "id": "r-9R7rcvydZZ"
   },
   "outputs": [],
   "source": [
    "df = data.copy()"
   ]
  },
  {
   "cell_type": "markdown",
   "metadata": {},
   "source": [
    "Isolation des variables météorologiques ayant un effet sur la variable incendie (isolées précédemment).\n",
    "Création de la matrice de design X et la taget y."
   ]
  },
  {
   "cell_type": "code",
   "execution_count": 33,
   "metadata": {},
   "outputs": [
    {
     "name": "stdout",
     "output_type": "stream",
     "text": [
      "(5017137, 7)\n",
      "(2019491, 7)\n"
     ]
    },
    {
     "data": {
      "text/plain": [
       "898"
      ]
     },
     "execution_count": 33,
     "metadata": {},
     "output_type": "execute_result"
    }
   ],
   "source": [
    "df_prediction = df[['dd','ff','t','td','precip','hu', 'incendie']]\n",
    "print(df_prediction.shape)\n",
    "df_prediction = df_prediction.dropna()\n",
    "print(df_prediction.shape)\n",
    "X = df_prediction[['dd','ff','t','td','precip','hu']]\n",
    "y = df_prediction['incendie']\n",
    "y.sum()"
   ]
  },
  {
   "cell_type": "markdown",
   "metadata": {},
   "source": [
    "Le nombre de variables explicatives étant faible, il est possible de ne garder que les lignes sans NaN en gardant largement suffisamment de données (2 millions de données dont 898 incendies)"
   ]
  },
  {
   "cell_type": "markdown",
   "metadata": {},
   "source": [
    "Séparation de la base en données de test et d'entraînement"
   ]
  },
  {
   "cell_type": "code",
   "execution_count": 73,
   "metadata": {},
   "outputs": [],
   "source": [
    "from sklearn.model_selection import train_test_split\n",
    "from sklearn.linear_model import LogisticRegression\n",
    "from sklearn.metrics import roc_auc_score\n",
    "from sklearn.tree import DecisionTreeClassifier\n",
    "from sklearn.metrics import f1_score, confusion_matrix, classification_report\n",
    "from sklearn.model_selection import learning_curve\n",
    "from sklearn.pipeline import Pipeline\n",
    "from sklearn.preprocessing import StandardScaler\n",
    "\n",
    "\n",
    "# Créer et entraîner le modèle\n",
    "X_train, X_test, y_train, y_test = train_test_split(X, y, test_size=0.2, random_state=42)"
   ]
  },
  {
   "cell_type": "markdown",
   "metadata": {},
   "source": [
    "Création du modèle de régression logistique. Le pre-processing est un Standard Scaler permettant de standardiser les données. L'option class_weight = 'balanced' permet de pondérer les classes et ainsi de prendre en compte la sous-représentation de la classes incendie dans les données par rapport à la classe \"pas d'incendie\". En effet, sans cette option, le modèle renvoie toujours 0 car il a alors une excellente accuracy bien qu'il n'ait rien appris."
   ]
  },
  {
   "cell_type": "code",
   "execution_count": 77,
   "metadata": {},
   "outputs": [
    {
     "data": {
      "text/html": [
       "<style>#sk-container-id-2 {color: black;}#sk-container-id-2 pre{padding: 0;}#sk-container-id-2 div.sk-toggleable {background-color: white;}#sk-container-id-2 label.sk-toggleable__label {cursor: pointer;display: block;width: 100%;margin-bottom: 0;padding: 0.3em;box-sizing: border-box;text-align: center;}#sk-container-id-2 label.sk-toggleable__label-arrow:before {content: \"▸\";float: left;margin-right: 0.25em;color: #696969;}#sk-container-id-2 label.sk-toggleable__label-arrow:hover:before {color: black;}#sk-container-id-2 div.sk-estimator:hover label.sk-toggleable__label-arrow:before {color: black;}#sk-container-id-2 div.sk-toggleable__content {max-height: 0;max-width: 0;overflow: hidden;text-align: left;background-color: #f0f8ff;}#sk-container-id-2 div.sk-toggleable__content pre {margin: 0.2em;color: black;border-radius: 0.25em;background-color: #f0f8ff;}#sk-container-id-2 input.sk-toggleable__control:checked~div.sk-toggleable__content {max-height: 200px;max-width: 100%;overflow: auto;}#sk-container-id-2 input.sk-toggleable__control:checked~label.sk-toggleable__label-arrow:before {content: \"▾\";}#sk-container-id-2 div.sk-estimator input.sk-toggleable__control:checked~label.sk-toggleable__label {background-color: #d4ebff;}#sk-container-id-2 div.sk-label input.sk-toggleable__control:checked~label.sk-toggleable__label {background-color: #d4ebff;}#sk-container-id-2 input.sk-hidden--visually {border: 0;clip: rect(1px 1px 1px 1px);clip: rect(1px, 1px, 1px, 1px);height: 1px;margin: -1px;overflow: hidden;padding: 0;position: absolute;width: 1px;}#sk-container-id-2 div.sk-estimator {font-family: monospace;background-color: #f0f8ff;border: 1px dotted black;border-radius: 0.25em;box-sizing: border-box;margin-bottom: 0.5em;}#sk-container-id-2 div.sk-estimator:hover {background-color: #d4ebff;}#sk-container-id-2 div.sk-parallel-item::after {content: \"\";width: 100%;border-bottom: 1px solid gray;flex-grow: 1;}#sk-container-id-2 div.sk-label:hover label.sk-toggleable__label {background-color: #d4ebff;}#sk-container-id-2 div.sk-serial::before {content: \"\";position: absolute;border-left: 1px solid gray;box-sizing: border-box;top: 0;bottom: 0;left: 50%;z-index: 0;}#sk-container-id-2 div.sk-serial {display: flex;flex-direction: column;align-items: center;background-color: white;padding-right: 0.2em;padding-left: 0.2em;position: relative;}#sk-container-id-2 div.sk-item {position: relative;z-index: 1;}#sk-container-id-2 div.sk-parallel {display: flex;align-items: stretch;justify-content: center;background-color: white;position: relative;}#sk-container-id-2 div.sk-item::before, #sk-container-id-2 div.sk-parallel-item::before {content: \"\";position: absolute;border-left: 1px solid gray;box-sizing: border-box;top: 0;bottom: 0;left: 50%;z-index: -1;}#sk-container-id-2 div.sk-parallel-item {display: flex;flex-direction: column;z-index: 1;position: relative;background-color: white;}#sk-container-id-2 div.sk-parallel-item:first-child::after {align-self: flex-end;width: 50%;}#sk-container-id-2 div.sk-parallel-item:last-child::after {align-self: flex-start;width: 50%;}#sk-container-id-2 div.sk-parallel-item:only-child::after {width: 0;}#sk-container-id-2 div.sk-dashed-wrapped {border: 1px dashed gray;margin: 0 0.4em 0.5em 0.4em;box-sizing: border-box;padding-bottom: 0.4em;background-color: white;}#sk-container-id-2 div.sk-label label {font-family: monospace;font-weight: bold;display: inline-block;line-height: 1.2em;}#sk-container-id-2 div.sk-label-container {text-align: center;}#sk-container-id-2 div.sk-container {/* jupyter's `normalize.less` sets `[hidden] { display: none; }` but bootstrap.min.css set `[hidden] { display: none !important; }` so we also need the `!important` here to be able to override the default hidden behavior on the sphinx rendered scikit-learn.org. See: https://github.com/scikit-learn/scikit-learn/issues/21755 */display: inline-block !important;position: relative;}#sk-container-id-2 div.sk-text-repr-fallback {display: none;}</style><div id=\"sk-container-id-2\" class=\"sk-top-container\"><div class=\"sk-text-repr-fallback\"><pre>Pipeline(steps=[(&#x27;scaler&#x27;, StandardScaler()),\n",
       "                (&#x27;classi&#x27;, LogisticRegression(class_weight=&#x27;balanced&#x27;))])</pre><b>In a Jupyter environment, please rerun this cell to show the HTML representation or trust the notebook. <br />On GitHub, the HTML representation is unable to render, please try loading this page with nbviewer.org.</b></div><div class=\"sk-container\" hidden><div class=\"sk-item sk-dashed-wrapped\"><div class=\"sk-label-container\"><div class=\"sk-label sk-toggleable\"><input class=\"sk-toggleable__control sk-hidden--visually\" id=\"sk-estimator-id-4\" type=\"checkbox\" ><label for=\"sk-estimator-id-4\" class=\"sk-toggleable__label sk-toggleable__label-arrow\">Pipeline</label><div class=\"sk-toggleable__content\"><pre>Pipeline(steps=[(&#x27;scaler&#x27;, StandardScaler()),\n",
       "                (&#x27;classi&#x27;, LogisticRegression(class_weight=&#x27;balanced&#x27;))])</pre></div></div></div><div class=\"sk-serial\"><div class=\"sk-item\"><div class=\"sk-estimator sk-toggleable\"><input class=\"sk-toggleable__control sk-hidden--visually\" id=\"sk-estimator-id-5\" type=\"checkbox\" ><label for=\"sk-estimator-id-5\" class=\"sk-toggleable__label sk-toggleable__label-arrow\">StandardScaler</label><div class=\"sk-toggleable__content\"><pre>StandardScaler()</pre></div></div></div><div class=\"sk-item\"><div class=\"sk-estimator sk-toggleable\"><input class=\"sk-toggleable__control sk-hidden--visually\" id=\"sk-estimator-id-6\" type=\"checkbox\" ><label for=\"sk-estimator-id-6\" class=\"sk-toggleable__label sk-toggleable__label-arrow\">LogisticRegression</label><div class=\"sk-toggleable__content\"><pre>LogisticRegression(class_weight=&#x27;balanced&#x27;)</pre></div></div></div></div></div></div></div>"
      ],
      "text/plain": [
       "Pipeline(steps=[('scaler', StandardScaler()),\n",
       "                ('classi', LogisticRegression(class_weight='balanced'))])"
      ]
     },
     "execution_count": 77,
     "metadata": {},
     "output_type": "execute_result"
    }
   ],
   "source": [
    "model = Pipeline([('scaler',StandardScaler()),\n",
    "                      ('classi',LogisticRegression(class_weight='balanced'))]\n",
    "                )\n",
    "model.fit(X_train, y_train)"
   ]
  },
  {
   "cell_type": "markdown",
   "metadata": {},
   "source": [
    "Prédiction du fait qu'il y ait un incendie sur les données météo de test"
   ]
  },
  {
   "cell_type": "code",
   "execution_count": 78,
   "metadata": {},
   "outputs": [
    {
     "name": "stdout",
     "output_type": "stream",
     "text": [
      "[[283299 120424]\n",
      " [    43    133]]\n"
     ]
    }
   ],
   "source": [
    "ypred = model.predict(X_test)\n",
    "print(confusion_matrix(y_test, ypred))"
   ]
  },
  {
   "cell_type": "markdown",
   "metadata": {},
   "source": [
    "La confusion matrix permet de regarder en détail comment ont été classées les données de test par le modèles. Sur les données sans incendies, environ 280 000 ont été bien classifiées contre 120 000 mal classifiées. Sur les données avec incendie, 133 ont été bien classifiées contre 43 mal classifiées. Le modèle a réussi a reconnaître des conditions météo propices aux incendies. La classification ne peut de toute façon pas être excellente car la météo ne détermine pas totalement le fait qu'il y ait un incendie (par exemple, un même jour il y aura les mêmes conditions météo dans deux communes mais un incendie ne va se déclarer que dans l'une des deux)."
   ]
  },
  {
   "cell_type": "markdown",
   "metadata": {},
   "source": [
    "On regarde désormais plus en détail les probabilités d'incendie trouvées par le modèle."
   ]
  },
  {
   "cell_type": "code",
   "execution_count": 79,
   "metadata": {},
   "outputs": [],
   "source": [
    "proba0 = model.predict_proba(X_test[y_test==0])\n",
    "proba1 = model.predict_proba(X_test[y_test==1])"
   ]
  },
  {
   "cell_type": "markdown",
   "metadata": {},
   "source": [
    "On trace l'histogramme des probalitités d'incendie prédites par le modèle sur les données pour lesquelles il n'y avait pas d'incendie."
   ]
  },
  {
   "cell_type": "code",
   "execution_count": 64,
   "metadata": {},
   "outputs": [
    {
     "data": {
      "text/plain": [
       "(array([2.68142469e-02, 8.38258467e-01, 1.93964739e+00, 2.81950553e+00,\n",
       "        2.96861280e+00, 2.96159598e+00, 2.91648790e+00, 2.55888108e+00,\n",
       "        2.36742234e+00, 2.13737114e+00, 1.99678429e+00, 1.91609095e+00,\n",
       "        1.74016945e+00, 1.80933517e+00, 1.63491726e+00, 1.77124390e+00,\n",
       "        1.59356819e+00, 1.51087004e+00, 1.36151218e+00, 1.48405580e+00,\n",
       "        1.44421033e+00, 1.36827839e+00, 1.17230885e+00, 1.29259706e+00,\n",
       "        1.19135448e+00, 1.18534007e+00, 1.23094935e+00, 1.16028003e+00,\n",
       "        1.11617435e+00, 1.09061311e+00, 1.19235689e+00, 1.01417997e+00,\n",
       "        1.05552905e+00, 9.88869331e-01, 1.09813112e+00, 1.06981327e+00,\n",
       "        1.03447861e+00, 9.33737234e-01, 1.14399100e+00, 8.87376153e-01,\n",
       "        8.81862943e-01, 1.00490776e+00, 1.13647299e+00, 8.95395367e-01,\n",
       "        9.59799680e-01, 9.64059887e-01, 9.63809287e-01, 8.93891764e-01,\n",
       "        9.15944603e-01, 8.13699624e-01, 9.22710815e-01, 8.92638762e-01,\n",
       "        8.73342528e-01, 9.45264854e-01, 7.86384176e-01, 9.46016656e-01,\n",
       "        8.65323314e-01, 7.69593947e-01, 9.14441000e-01, 8.15704428e-01,\n",
       "        8.97650771e-01, 9.04416983e-01, 8.74846131e-01, 8.40263271e-01,\n",
       "        8.03926207e-01, 8.56552299e-01, 8.53795694e-01, 9.22961415e-01,\n",
       "        7.92398587e-01, 7.96408194e-01, 8.36754864e-01, 7.91145585e-01,\n",
       "        8.57053500e-01, 6.93160813e-01, 8.05179209e-01, 6.90905409e-01,\n",
       "        8.17959831e-01, 7.47541108e-01, 6.82134394e-01, 7.02433029e-01,\n",
       "        5.97682046e-01, 6.58828553e-01, 5.83648421e-01, 5.07716489e-01,\n",
       "        5.35282537e-01, 5.68111194e-01, 4.12488322e-01, 4.16748529e-01,\n",
       "        3.94445090e-01, 2.79419489e-01, 2.16769379e-01, 2.10003168e-01,\n",
       "        1.74668506e-01, 1.08509990e-01, 7.24235267e-02, 4.05972710e-02,\n",
       "        3.05732535e-02, 7.51801316e-03, 5.01200877e-03, 2.50600439e-04]),\n",
       " array([4.35166725e-04, 1.03192110e-02, 2.02032552e-02, 3.00872995e-02,\n",
       "        3.99713438e-02, 4.98553880e-02, 5.97394323e-02, 6.96234766e-02,\n",
       "        7.95075208e-02, 8.93915651e-02, 9.92756093e-02, 1.09159654e-01,\n",
       "        1.19043698e-01, 1.28927742e-01, 1.38811786e-01, 1.48695831e-01,\n",
       "        1.58579875e-01, 1.68463919e-01, 1.78347963e-01, 1.88232008e-01,\n",
       "        1.98116052e-01, 2.08000096e-01, 2.17884140e-01, 2.27768185e-01,\n",
       "        2.37652229e-01, 2.47536273e-01, 2.57420318e-01, 2.67304362e-01,\n",
       "        2.77188406e-01, 2.87072450e-01, 2.96956495e-01, 3.06840539e-01,\n",
       "        3.16724583e-01, 3.26608627e-01, 3.36492672e-01, 3.46376716e-01,\n",
       "        3.56260760e-01, 3.66144804e-01, 3.76028849e-01, 3.85912893e-01,\n",
       "        3.95796937e-01, 4.05680981e-01, 4.15565026e-01, 4.25449070e-01,\n",
       "        4.35333114e-01, 4.45217158e-01, 4.55101203e-01, 4.64985247e-01,\n",
       "        4.74869291e-01, 4.84753336e-01, 4.94637380e-01, 5.04521424e-01,\n",
       "        5.14405468e-01, 5.24289513e-01, 5.34173557e-01, 5.44057601e-01,\n",
       "        5.53941645e-01, 5.63825690e-01, 5.73709734e-01, 5.83593778e-01,\n",
       "        5.93477822e-01, 6.03361867e-01, 6.13245911e-01, 6.23129955e-01,\n",
       "        6.33013999e-01, 6.42898044e-01, 6.52782088e-01, 6.62666132e-01,\n",
       "        6.72550176e-01, 6.82434221e-01, 6.92318265e-01, 7.02202309e-01,\n",
       "        7.12086354e-01, 7.21970398e-01, 7.31854442e-01, 7.41738486e-01,\n",
       "        7.51622531e-01, 7.61506575e-01, 7.71390619e-01, 7.81274663e-01,\n",
       "        7.91158708e-01, 8.01042752e-01, 8.10926796e-01, 8.20810840e-01,\n",
       "        8.30694885e-01, 8.40578929e-01, 8.50462973e-01, 8.60347017e-01,\n",
       "        8.70231062e-01, 8.80115106e-01, 8.89999150e-01, 8.99883194e-01,\n",
       "        9.09767239e-01, 9.19651283e-01, 9.29535327e-01, 9.39419372e-01,\n",
       "        9.49303416e-01, 9.59187460e-01, 9.69071504e-01, 9.78955549e-01,\n",
       "        9.88839593e-01]),\n",
       " <BarContainer object of 100 artists>)"
      ]
     },
     "execution_count": 64,
     "metadata": {},
     "output_type": "execute_result"
    },
    {
     "data": {
      "image/png": "[encoded data removed]",
      "text/plain": [
       "<Figure size 640x480 with 1 Axes>"
      ]
     },
     "metadata": {},
     "output_type": "display_data"
    }
   ],
   "source": [
    "plt.hist(proba0[:,1], density=True, bins=100)"
   ]
  },
  {
   "cell_type": "markdown",
   "metadata": {},
   "source": [
    "On remarque que même si beaucoup de données sont mal classifiées (p>0.5), les probabilités trouvées sont bien proches de 0 pour la plupart."
   ]
  },
  {
   "cell_type": "markdown",
   "metadata": {},
   "source": [
    "On regarde désormais les probabilités prédites sur les données pour lesquelles il y a eu un incendie (moins de données)."
   ]
  },
  {
   "cell_type": "code",
   "execution_count": 66,
   "metadata": {},
   "outputs": [
    {
     "data": {
      "text/plain": [
       "(array([0.24665898, 0.        , 0.        , 0.24665898, 0.49331797,\n",
       "        0.36998848, 0.98663593, 0.49331797, 1.10996543, 1.4799539 ,\n",
       "        0.86330644, 1.10996543, 1.35662441, 1.23329492, 1.10996543,\n",
       "        2.71324882, 2.09660136, 3.32989628, 1.4799539 , 0.98663593]),\n",
       " array([0.05101952, 0.09708975, 0.14315998, 0.18923021, 0.23530044,\n",
       "        0.28137067, 0.3274409 , 0.37351113, 0.41958136, 0.4656516 ,\n",
       "        0.51172183, 0.55779206, 0.60386229, 0.64993252, 0.69600275,\n",
       "        0.74207298, 0.78814321, 0.83421344, 0.88028368, 0.92635391,\n",
       "        0.97242414]),\n",
       " <BarContainer object of 20 artists>)"
      ]
     },
     "execution_count": 66,
     "metadata": {},
     "output_type": "execute_result"
    },
    {
     "data": {
      "image/png": "[encoded data removed]",
      "text/plain": [
       "<Figure size 640x480 with 1 Axes>"
      ]
     },
     "metadata": {},
     "output_type": "display_data"
    }
   ],
   "source": [
    "plt.hist(proba1[:,1], density=True, bins=20)"
   ]
  },
  {
   "cell_type": "markdown",
   "metadata": {},
   "source": [
    "De la même façon, si des données sont mal classifiées (p<0.5), les probabilités trouvées sont plutôt proches de 1 pour la plupart."
   ]
  },
  {
   "cell_type": "markdown",
   "metadata": {},
   "source": [
    "Le modèle réussit alors à capter des influences des variables météorologiques sur le risque d'incendie"
   ]
  },
  {
   "cell_type": "markdown",
   "metadata": {},
   "source": [
    "Etudions maintenant les coefficients de la régression logistique"
   ]
  },
  {
   "cell_type": "code",
   "execution_count": 85,
   "metadata": {},
   "outputs": [
    {
     "data": {
      "text/html": [
       "<div>\n",
       "<style scoped>\n",
       "    .dataframe tbody tr th:only-of-type {\n",
       "        vertical-align: middle;\n",
       "    }\n",
       "\n",
       "    .dataframe tbody tr th {\n",
       "        vertical-align: top;\n",
       "    }\n",
       "\n",
       "    .dataframe thead th {\n",
       "        text-align: right;\n",
       "    }\n",
       "</style>\n",
       "<table border=\"1\" class=\"dataframe\">\n",
       "  <thead>\n",
       "    <tr style=\"text-align: right;\">\n",
       "      <th></th>\n",
       "      <th>dd</th>\n",
       "      <th>ff</th>\n",
       "      <th>t</th>\n",
       "      <th>td</th>\n",
       "      <th>precip</th>\n",
       "      <th>hu</th>\n",
       "    </tr>\n",
       "  </thead>\n",
       "  <tbody>\n",
       "    <tr>\n",
       "      <th>coefficient</th>\n",
       "      <td>0.023002</td>\n",
       "      <td>0.250419</td>\n",
       "      <td>-1.105582</td>\n",
       "      <td>1.515885</td>\n",
       "      <td>0.081197</td>\n",
       "      <td>-1.753249</td>\n",
       "    </tr>\n",
       "  </tbody>\n",
       "</table>\n",
       "</div>"
      ],
      "text/plain": [
       "                   dd        ff         t        td    precip        hu\n",
       "coefficient  0.023002  0.250419 -1.105582  1.515885  0.081197 -1.753249"
      ]
     },
     "execution_count": 85,
     "metadata": {},
     "output_type": "execute_result"
    }
   ],
   "source": [
    "coeffs = pd.DataFrame(data= model.named_steps['classi'].coef_, columns = X.columns, index=['coefficient'])\n",
    "coeffs"
   ]
  },
  {
   "cell_type": "markdown",
   "metadata": {},
   "source": [
    "Les coefficients peuvent être comparés entre eux grâce à la standardisation des données. Plus la valeur absolue du coefficient est grande, plus la variable influe sur la probabilité d'être classifié en incendie. Un signe positif (resp. négatif) indique une relation croissante (resp. décroissante) entre la variable et le risque d'incendie."
   ]
  },
  {
   "cell_type": "markdown",
   "metadata": {},
   "source": [
    "Les variables les plus importantes semblent êtres l'humidité (hu) et les variables de température (t, td)."
   ]
  },
  {
   "cell_type": "markdown",
   "metadata": {},
   "source": [
    "Notons un point surprenant : le coefficient associé à la température moyenne sur la journée (t) est négatif alors que cette variable est corrélée positivement à la variable incendie comme vu précédemment. Ceci est du au fait que la corrélation de t et td est de 0.9 donc il y a un effet de compensation entre le coefficient positif de td et le coefficient négatif de t. Pour avoir un modèle causal, il faudrait peut-être supprimer l'une des deux variables."
   ]
  },
  {
   "cell_type": "code",
   "execution_count": null,
   "metadata": {},
   "outputs": [],
   "source": [
    "# Obtenir les probabilités sur l'ensemble de test\n",
    "probabilities = model.predict_proba(X_test)\n",
    "\n",
    "# Calculer l'AUC-ROC\n",
    "auc_roc = roc_auc_score(y_test, probabilities[:, 1])  # Utiliser les probabilités de la classe 1 (incendie)\n",
    "print(f'AUC-ROC: {auc_roc}')"
   ]
  },
  {
   "cell_type": "code",
   "execution_count": null,
   "metadata": {},
   "outputs": [],
   "source": [
    "def evaluation(model):\n",
    "    \n",
    "    model.fit(X_train, y_train)\n",
    "    ypred = model.predict(X_test)\n",
    "    \n",
    "    print(confusion_matrix(y_test, ypred))\n",
    "    print(classification_report(y_test, ypred))\n",
    "    \n",
    "    N, train_score, val_score = learning_curve(model, X_train, y_train,\n",
    "                                              cv=4, scoring='f1',\n",
    "                                               train_sizes=np.linspace(0.1, 1, 10))\n",
    "    \n",
    "    \n",
    "    plt.figure(figsize=(12, 8))\n",
    "    plt.plot(N, train_score.mean(axis=1), label='train score')\n",
    "    plt.plot(N, val_score.mean(axis=1), label='validation score')\n",
    "    plt.legend()"
   ]
  },
  {
   "cell_type": "code",
   "execution_count": null,
   "metadata": {},
   "outputs": [],
   "source": [
    "evalutation(model)"
   ]
  },
  {
   "cell_type": "code",
   "execution_count": 70,
   "metadata": {},
   "outputs": [
    {
     "name": "stdout",
     "output_type": "stream",
     "text": [
      "[[403723      0]\n",
      " [   176      0]]\n"
     ]
    },
    {
     "name": "stderr",
     "output_type": "stream",
     "text": [
      "/opt/mamba/lib/python3.10/site-packages/sklearn/metrics/_classification.py:1471: UndefinedMetricWarning: Precision and F-score are ill-defined and being set to 0.0 in labels with no predicted samples. Use `zero_division` parameter to control this behavior.\n",
      "  _warn_prf(average, modifier, msg_start, len(result))\n"
     ]
    },
    {
     "name": "stdout",
     "output_type": "stream",
     "text": [
      "              precision    recall  f1-score   support\n",
      "\n",
      "           0       1.00      1.00      1.00    403723\n",
      "           1       0.00      0.00      0.00       176\n",
      "\n",
      "    accuracy                           1.00    403899\n",
      "   macro avg       0.50      0.50      0.50    403899\n",
      "weighted avg       1.00      1.00      1.00    403899\n",
      "\n"
     ]
    },
    {
     "name": "stderr",
     "output_type": "stream",
     "text": [
      "/opt/mamba/lib/python3.10/site-packages/sklearn/metrics/_classification.py:1471: UndefinedMetricWarning: Precision and F-score are ill-defined and being set to 0.0 in labels with no predicted samples. Use `zero_division` parameter to control this behavior.\n",
      "  _warn_prf(average, modifier, msg_start, len(result))\n",
      "/opt/mamba/lib/python3.10/site-packages/sklearn/metrics/_classification.py:1471: UndefinedMetricWarning: Precision and F-score are ill-defined and being set to 0.0 in labels with no predicted samples. Use `zero_division` parameter to control this behavior.\n",
      "  _warn_prf(average, modifier, msg_start, len(result))\n"
     ]
    }
   ],
   "source": [
    "from sklearn.ensemble import AdaBoostClassifier\n",
    "from sklearn.tree import DecisionTreeClassifier\n",
    "\n",
    "ada = Pipeline([('scaler',StandardScaler()),\n",
    "                      ('classi',AdaBoostClassifier(\n",
    "    DecisionTreeClassifier(max_depth=1),\n",
    "    n_estimators=10,\n",
    "    algorithm=\"SAMME.R\",\n",
    "    learning_rate=0.5\n",
    "))]\n",
    "                     )\n",
    "ada.fit(X_train, y_train)\n",
    "\n",
    "# Obtenir les probabilités sur l'ensemble de test\n",
    "proba0_ada = ada.predict_proba(X_test[y_test==0])\n",
    "proba1_ada = ada.predict_proba(X_test[y_test==1])\n",
    "\n",
    "ypred = ada.predict(X_test)\n",
    "print(confusion_matrix(y_test, ypred))\n",
    "print(classification_report(y_test, ypred))\n",
    "\n",
    "#evaluation(rf)"
   ]
  }
 ],
 "metadata": {
  "colab": {
   "collapsed_sections": [],
   "include_colab_link": true,
   "name": "Untitled4.ipynb",
   "provenance": []
  },
  "kernelspec": {
   "display_name": "Python 3 (ipykernel)",
   "language": "python",
   "name": "python3"
  },
  "language_info": {
   "codemirror_mode": {
    "name": "ipython",
    "version": 3
   },
   "file_extension": ".py",
   "mimetype": "text/x-python",
   "name": "python",
   "nbconvert_exporter": "python",
   "pygments_lexer": "ipython3",
   "version": "3.10.13"
  }
 },
 "nbformat": 4,
 "nbformat_minor": 4
}
